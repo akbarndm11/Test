{
 "cells": [
  {
   "cell_type": "code",
   "execution_count": 2,
   "id": "6174ccc0",
   "metadata": {},
   "outputs": [
    {
     "name": "stdout",
     "output_type": "stream",
     "text": [
      "4\n"
     ]
    }
   ],
   "source": [
    "print(2+2) "
   ]
  },
  {
   "cell_type": "markdown",
   "id": "e2d639b6",
   "metadata": {},
   "source": [
    "# Lesson 1 Data types\n"
   ]
  },
  {
   "cell_type": "code",
   "execution_count": 5,
   "id": "9fcf897c",
   "metadata": {},
   "outputs": [
    {
     "name": "stdout",
     "output_type": "stream",
     "text": [
      "40 <class 'int'>\n",
      "Akbar <class 'str'>\n",
      "71.6 <class 'float'>\n",
      "True <class 'bool'>\n"
     ]
    }
   ],
   "source": [
    "age = 40\n",
    "Name = 'Akbar'\n",
    "weight= 71.6\n",
    "passed = True\n",
    "\n",
    "print(age,type(age))\n",
    "print (Name,type(Name))\n",
    "print (weight,type(weight))\n",
    "print (passed,type(passed))\n"
   ]
  },
  {
   "cell_type": "code",
   "execution_count": 13,
   "id": "0b3c9d7e",
   "metadata": {},
   "outputs": [
    {
     "name": "stdout",
     "output_type": "stream",
     "text": [
      "5.099121720515953e+114\n"
     ]
    }
   ],
   "source": [
    "print(age**weight)"
   ]
  },
  {
   "cell_type": "code",
   "execution_count": 21,
   "id": "4da3790a",
   "metadata": {},
   "outputs": [
    {
     "name": "stdout",
     "output_type": "stream",
     "text": [
      "2864.0\n",
      "8.400000000000006\n"
     ]
    }
   ],
   "source": [
    "print(age*weight)\n",
    "print(age-weight+age)"
   ]
  },
  {
   "cell_type": "code",
   "execution_count": 19,
   "id": "98f387ff",
   "metadata": {},
   "outputs": [
    {
     "name": "stdout",
     "output_type": "stream",
     "text": [
      "30.9875\n"
     ]
    }
   ],
   "source": [
    "a1=20.45\n",
    "a2=20\n",
    "a3=40.5\n",
    "a4=43\n",
    "\n",
    "avg=(a1+a2+a3+a4)/4\n",
    "\n",
    "print (avg)"
   ]
  },
  {
   "cell_type": "code",
   "execution_count": 53,
   "id": "c664f9e3",
   "metadata": {},
   "outputs": [
    {
     "name": "stdout",
     "output_type": "stream",
     "text": [
      "1\n",
      "<class 'int'>\n"
     ]
    }
   ],
   "source": [
    "#floor div\n",
    "\n",
    "typeOne = int(weight//age)\n",
    "\n",
    "print(typeOne)\n",
    "print(type(typeOne))\n"
   ]
  },
  {
   "cell_type": "code",
   "execution_count": 38,
   "id": "b1899b89",
   "metadata": {},
   "outputs": [
    {
     "name": "stdout",
     "output_type": "stream",
     "text": [
      "1\n",
      "<class 'float'>\n"
     ]
    }
   ],
   "source": [
    "print(2//2)\n",
    "typeTwo = 2.5//2.4\n",
    "print(type(typeTwo))"
   ]
  },
  {
   "cell_type": "code",
   "execution_count": 58,
   "id": "dc190b6f",
   "metadata": {},
   "outputs": [
    {
     "name": "stdout",
     "output_type": "stream",
     "text": [
      "0.34\n"
     ]
    }
   ],
   "source": [
    "#rounded\n",
    "Math =26 \n",
    "english= 76.4\n",
    "total= round(Math/english, 3)\n",
    "print(total)"
   ]
  },
  {
   "cell_type": "code",
   "execution_count": 59,
   "id": "670a48de",
   "metadata": {},
   "outputs": [
    {
     "name": "stdout",
     "output_type": "stream",
     "text": [
      "<class 'int'>\n",
      "<class 'float'>\n"
     ]
    }
   ],
   "source": [
    "print(type(Math))\n",
    "print(type(english))"
   ]
  },
  {
   "cell_type": "code",
   "execution_count": 60,
   "id": "48070d97",
   "metadata": {},
   "outputs": [
    {
     "name": "stdout",
     "output_type": "stream",
     "text": [
      "<class 'bool'>\n"
     ]
    }
   ],
   "source": [
    "print(type(passed))"
   ]
  },
  {
   "cell_type": "code",
   "execution_count": 80,
   "id": "a0f9aff2",
   "metadata": {},
   "outputs": [
    {
     "name": "stdout",
     "output_type": "stream",
     "text": [
      "5.56\n",
      "42.0\n"
     ]
    }
   ],
   "source": [
    "#F to C AND C TO F\n",
    "f = 42\n",
    "c= 5.56\n",
    "convert_c= round((f-32)/1.8, 2)\n",
    "convert_f= round((c*1.8)+32, 1)\n",
    "print(convert_c)\n",
    "print(convert_f)"
   ]
  },
  {
   "cell_type": "code",
   "execution_count": 94,
   "id": "e42076c1",
   "metadata": {},
   "outputs": [
    {
     "name": "stdout",
     "output_type": "stream",
     "text": [
      "68.0\n",
      "91\n"
     ]
    }
   ],
   "source": [
    "#MILES TO KM and km to miles\n",
    "\n",
    "m= 57\n",
    "k =110\n",
    "convert_km = round(m*1.6)\n",
    "convert_m = (k//1.6)\n",
    "print(convert_m)\n",
    "print(convert_km)\n",
    " "
   ]
  },
  {
   "cell_type": "code",
   "execution_count": 99,
   "id": "f7610370",
   "metadata": {},
   "outputs": [
    {
     "name": "stdout",
     "output_type": "stream",
     "text": [
      "72.64\n",
      "189.4\n"
     ]
    }
   ],
   "source": [
    "#pound to kg and kg to pound\n",
    "\n",
    "p= 160\n",
    "g=86\n",
    "\n",
    "convert_p= round(160*0.454,2)\n",
    "convert_g= round(86/0.454, 1)\n",
    "print(convert_p)\n",
    "print(convert_g)"
   ]
  },
  {
   "cell_type": "code",
   "execution_count": 112,
   "id": "26aa645c",
   "metadata": {},
   "outputs": [
    {
     "name": "stdout",
     "output_type": "stream",
     "text": [
      "325\n",
      "12.68\n"
     ]
    }
   ],
   "source": [
    "#gallons to litres and litre to gallon\n",
    "\n",
    "G= 28\n",
    "l= 48\n",
    "convert_l= int(g*3.78541)\n",
    "convert_g= round(48/3.78541, 2)\n",
    "print(convert_l)\n",
    "print(convert_g)\n",
    "\n",
    "    "
   ]
  },
  {
   "cell_type": "code",
   "execution_count": 118,
   "id": "6ffa6525",
   "metadata": {},
   "outputs": [
    {
     "name": "stdout",
     "output_type": "stream",
     "text": [
      "3\n"
     ]
    }
   ],
   "source": [
    "#CALC SIMPLE INTEREST\n",
    "p = 110\n",
    "r= 0.5\n",
    "i= 5\n",
    "\n",
    "SI= round(p*r*i/100)\n",
    "\n",
    "\n",
    "print(SI)\n",
    "\n",
    "\n"
   ]
  },
  {
   "cell_type": "code",
   "execution_count": 144,
   "id": "805259ba",
   "metadata": {},
   "outputs": [
    {
     "name": "stdout",
     "output_type": "stream",
     "text": [
      "<class 'float'>\n",
      "9\n",
      "997\n",
      "998\n"
     ]
    }
   ],
   "source": [
    "#calculating FORCE\n",
    "\n",
    "import math\n",
    "m = 25.66\n",
    "a= 38.89\n",
    "s= 110.67\n",
    "\n",
    "f= math.ceil(m*a)\n",
    "r=math.floor(m*a)\n",
    "d= (f/110.67)\n",
    "q= (f/110.67)\n",
    "print (type(q))\n",
    "print (int(d))\n",
    "print(r)\n",
    "print(f)\n",
    "\n",
    "\n"
   ]
  },
  {
   "cell_type": "markdown",
   "id": "21435977",
   "metadata": {},
   "source": [
    "**above codes are to learn Data Types**\n",
    "# title\n"
   ]
  },
  {
   "cell_type": "markdown",
   "id": "c178a1a8",
   "metadata": {},
   "source": [
    "i am doing this to increase my knowledge"
   ]
  },
  {
   "cell_type": "code",
   "execution_count": 163,
   "id": "b55cf57c",
   "metadata": {},
   "outputs": [
    {
     "name": "stdout",
     "output_type": "stream",
     "text": [
      "49.76\n"
     ]
    }
   ],
   "source": [
    "x= 29.87\n",
    "y=8.53\n",
    "n= 10\n",
    "r=0.06\n",
    "\n",
    "a= round((x*((1+(r/n))**(n*y))),2)\n",
    "\n",
    "print(a)\n",
    "\n"
   ]
  },
  {
   "cell_type": "markdown",
   "id": "6450dcf6",
   "metadata": {},
   "source": [
    "## **the above code is calculating compound interest**"
   ]
  },
  {
   "cell_type": "code",
   "execution_count": null,
   "id": "07032fd5",
   "metadata": {},
   "outputs": [],
   "source": []
  }
 ],
 "metadata": {
  "kernelspec": {
   "display_name": "Python 3 (ipykernel)",
   "language": "python",
   "name": "python3"
  },
  "language_info": {
   "codemirror_mode": {
    "name": "ipython",
    "version": 3
   },
   "file_extension": ".py",
   "mimetype": "text/x-python",
   "name": "python",
   "nbconvert_exporter": "python",
   "pygments_lexer": "ipython3",
   "version": "3.9.12"
  }
 },
 "nbformat": 4,
 "nbformat_minor": 5
}
